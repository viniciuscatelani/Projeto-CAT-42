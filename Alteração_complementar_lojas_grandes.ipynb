{
 "cells": [
  {
   "cell_type": "code",
   "execution_count": 1,
   "id": "f844ee03",
   "metadata": {},
   "outputs": [],
   "source": [
    "# Importação das bibliotecas necessárias\n",
    "\n",
    "import pandas as pd"
   ]
  },
  {
   "cell_type": "code",
   "execution_count": 2,
   "id": "67549d8b",
   "metadata": {},
   "outputs": [],
   "source": [
    "# Definição da loja a ser utilizada\n",
    "\n",
    "loja = 165"
   ]
  },
  {
   "cell_type": "code",
   "execution_count": null,
   "id": "d91eea59",
   "metadata": {},
   "outputs": [],
   "source": [
    "# Leitura do arquivo da ficha 3 da loja\n",
    "\n",
    "ficha3_1 = pd.read_excel(f'Loja_{loja}/ficha_3_loja_{loja}_p1_v1.xlsb', sheet_name='ficha3', engine='pyxlsb')\n",
    "ficha3_1"
   ]
  },
  {
   "cell_type": "code",
   "execution_count": null,
   "id": "234799fb",
   "metadata": {},
   "outputs": [],
   "source": [
    "# Leitura do arquivo da ficha 3 da loja\n",
    "\n",
    "ficha3_2 = pd.read_excel(f'Loja_{loja}/ficha_3_loja_{loja}_p2_v1.xlsb', sheet_name='ficha3', engine='pyxlsb')\n",
    "ficha3_2"
   ]
  },
  {
   "cell_type": "code",
   "execution_count": null,
   "id": "1d6512f7",
   "metadata": {},
   "outputs": [],
   "source": [
    "ficha_3 = pd.concat([ficha3_1, ficha3_2])\n",
    "ficha_3"
   ]
  },
  {
   "cell_type": "code",
   "execution_count": null,
   "id": "2a88f46e",
   "metadata": {},
   "outputs": [],
   "source": [
    "# Leitura do arquivo da complementar\n",
    "\n",
    "complementar = pd.read_excel(f'Loja_{loja}/complementar_loja_{loja}_v1.xlsx')\n",
    "complementar"
   ]
  },
  {
   "cell_type": "code",
   "execution_count": null,
   "id": "e2607e20",
   "metadata": {},
   "outputs": [],
   "source": [
    "# Adição à complementar das informações necessárias da ficha 3\n",
    "\n",
    "merged = pd.merge(complementar, ficha_3[['CHV_DOC', 'NUM_ITEM', 'Valor Complementar']],\n",
    "                left_on=['Chave Acesso NFe', 'Item NFE Origem'], right_on=['CHV_DOC', 'NUM_ITEM'],\n",
    "                how='left')\n",
    "merged"
   ]
  },
  {
   "cell_type": "code",
   "execution_count": null,
   "id": "52a26da6",
   "metadata": {},
   "outputs": [],
   "source": [
    "merged[merged['Valor Complementar'].notnull()]"
   ]
  },
  {
   "cell_type": "code",
   "execution_count": null,
   "id": "fed8f9e3",
   "metadata": {},
   "outputs": [],
   "source": [
    "# Substituição da coluna ST Retido - Base de Cálculo por Valor complementar\n",
    "merged = merged[['Chave Acesso NFe', 'Item NFE Origem', 'EAN', 'Produto', 'Quantidade Comercial', 'Valor Produto ou Serviço', \n",
    "                'ANVISA', 'Valor Complementar', 'ALIQUOTA', 'ICMS ST Retido- Valor']]\n",
    "\n",
    "merged = merged[merged['Valor Complementar'].notnull()]\n",
    "merged['Valor Complementar'] = merged['Valor Complementar'].astype(str).str.replace('.', ',')\n",
    "merged"
   ]
  },
  {
   "cell_type": "code",
   "execution_count": null,
   "id": "b0c26f63",
   "metadata": {},
   "outputs": [],
   "source": [
    "# Renomeação da coluna substituta\n",
    "\n",
    "merged.rename(columns={'Valor Complementar': 'ST Retido - Base de Cálculo'}, inplace=True)"
   ]
  },
  {
   "cell_type": "code",
   "execution_count": null,
   "id": "5c8dc0f6",
   "metadata": {},
   "outputs": [],
   "source": [
    "merged"
   ]
  },
  {
   "cell_type": "code",
   "execution_count": null,
   "id": "ab6f5f81",
   "metadata": {},
   "outputs": [],
   "source": [
    "# Geração do arquivo final\n",
    "\n",
    "path = f'Loja_{loja}/complementar_final_loja_{loja}.xlsx'\n",
    "with pd.ExcelWriter(path, engine='xlsxwriter') as writer:\n",
    "    merged.to_excel(writer, engine='xlsxwriter', index=False)"
   ]
  }
 ],
 "metadata": {
  "kernelspec": {
   "display_name": "Python 3 (ipykernel)",
   "language": "python",
   "name": "python3"
  },
  "language_info": {
   "codemirror_mode": {
    "name": "ipython",
    "version": 3
   },
   "file_extension": ".py",
   "mimetype": "text/x-python",
   "name": "python",
   "nbconvert_exporter": "python",
   "pygments_lexer": "ipython3",
   "version": "3.10.9"
  }
 },
 "nbformat": 4,
 "nbformat_minor": 5
}
