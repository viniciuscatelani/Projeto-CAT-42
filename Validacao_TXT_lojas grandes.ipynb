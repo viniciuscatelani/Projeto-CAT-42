{
 "cells": [
  {
   "cell_type": "code",
   "execution_count": null,
   "id": "149bf052",
   "metadata": {},
   "outputs": [],
   "source": [
    "# Importando bibliotecas necessárias\n",
    "\n",
    "import pandas as pd\n",
    "import os\n",
    "import glob\n",
    "import numpy as np\n",
    "from datetime import datetime"
   ]
  },
  {
   "cell_type": "code",
   "execution_count": null,
   "id": "09ee63ce",
   "metadata": {},
   "outputs": [],
   "source": [
    "# Definindo informações importantes\n",
    "\n",
    "loja = 1\n",
    "periodo = 2"
   ]
  },
  {
   "cell_type": "code",
   "execution_count": null,
   "id": "b7df1c5f",
   "metadata": {},
   "outputs": [],
   "source": [
    "# Leitura dos arquivos da ficha 3\n",
    "\n",
    "ficha_3_1 = pd.read_excel(f'C:\\Bots\\Bot_transmissao\\Geracao CAT\\Loja_{loja}\\\\ficha_3_loja_{loja}_p{periodo}_parte1_v1.xlsx') \n",
    "ficha_3_2 = pd.read_excel(f'C:\\Bots\\Bot_transmissao\\Geracao CAT\\Loja_{loja}\\\\ficha_3_loja_{loja}_p{periodo}_parte2_v1.xlsx')\n",
    "\n",
    "ficha_3 = pd.concat([ficha_3_1, ficha_3_2])\n",
    "ficha_3"
   ]
  },
  {
   "cell_type": "code",
   "execution_count": null,
   "id": "34b73731",
   "metadata": {},
   "outputs": [],
   "source": [
    "def recalcular_digito_verificador(nfe_completa):\n",
    "    # Verifica se a NF-e com o dígito verificador tem o tamanho correto\n",
    "    if pd.isnull(nfe_completa) or len(nfe_completa) != 44:\n",
    "        raise ValueError(f\"Valor inválido na coluna 'CHV_DOC': {nfe_completa}\")\n",
    "\n",
    "    # Remove o último caractere (dígito verificador)\n",
    "    nfe_sem_dv = nfe_completa[:-1]\n",
    "\n",
    "    # Restante da lógica de cálculo do dígito verificador\n",
    "    soma = 0\n",
    "    peso = 2\n",
    "    nfe_invertida = nfe_sem_dv[::-1]\n",
    "\n",
    "    for digito in nfe_invertida:\n",
    "        soma += int(digito) * peso\n",
    "        peso += 1\n",
    "        if peso > 9:\n",
    "            peso = 2\n",
    "\n",
    "    resto = soma % 11\n",
    "    dv = 0 if resto == 0 or resto == 1 else 11 - resto\n",
    "\n",
    "    return dv\n",
    "\n",
    "df_0000 = pd.read_excel(f'C:\\\\Bots\\\\Bot_transmissao\\\\Geracao CAT\\\\Referencias\\\\0000_0150_P{periodo}.xlsx', sheet_name='0000', dtype=str)\n",
    "\n",
    "df_0000['DATA'] = df_0000['DATA'].astype(str).str.slice(0, 8)\n",
    "df_0000['DATA'] = [datetime.strptime(x, '%Y%m%d').strftime('%m%Y') for x in df_0000['DATA']]\n",
    "df_0000['COD_VER'] = ['01'] * df_0000.shape[0]\n",
    "df_0000['COD_FIN'] = ['00'] * df_0000.shape[0]\n",
    "df_0000 = df_0000[['LOJA','REG', 'DATA', 'NOME', 'CNPJ', 'IE',\n",
    "        'COD_MUN', 'COD_VER', 'COD_FIN']]\n",
    "\n",
    "df_0000 = df_0000[df_0000['LOJA'] == f'Loja {loja}']\n",
    "\n",
    "\n",
    "cnpj_loja = df_0000[df_0000['LOJA'] == f'Loja {loja}']['CNPJ'].values[0]\n",
    "\n",
    "# ficha_3['CHV_DOC'] = np.where(ficha_3['FONTE'].isin(['entrada_oprprp', 'saida_nfe', 'dfe']),\n",
    "#                            ficha_3['CHV_DOC'].str.slice(0,6) + cnpj_loja + ficha_3['CHV_DOC'].str.slice(20,44),\n",
    "#                            ficha_3['CHV_DOC'])\n",
    "    \n",
    "# ficha_3['DV_NFe'] = ficha_3['CHV_DOC'].apply(recalcular_digito_verificador)\n",
    "# ficha_3['CHV_DOC'] = ficha_3['CHV_DOC'].str.slice(0,-1) + ficha_3['DV_NFe'].astype(str)\n",
    "# ficha_3"
   ]
  },
  {
   "cell_type": "code",
   "execution_count": null,
   "id": "63eca61d",
   "metadata": {},
   "outputs": [],
   "source": [
    "# Lista todos os arquivos TXT na pasta\n",
    "pasta_arquivos = f'C:\\Bots\\Bot_transmissao\\Geracao CAT\\Loja_{loja}\\Teste_loja_{loja}'\n",
    "\n",
    "# Filtra apenas os arquivos que começam com '1100'\n",
    "arquivos_1100 = [arquivo for arquivo in os.listdir(pasta_arquivos) if arquivo.startswith('1100')]\n",
    "arquivos_1100\n",
    "# Lista para armazenar os dataframes de cada arquivo\n",
    "dataframes = []\n",
    "\n",
    "# Lê cada arquivo e adiciona ao dataframe\n",
    "for arquivo in arquivos_1100:\n",
    "    df = pd.read_csv(os.path.join(pasta_arquivos, arquivo), sep='|', header=None, \n",
    "                     names=['Cod_reg', 'Chv_doc', 'data', 'num_item', 'ind_oper', \n",
    "                             'cod_prod', 'cfop', 'qtd', 'icms_tot', 'vlr_confr', 'cod_legal'],\n",
    "                    dtype=str)  # Se o arquivo estiver em formato CSV, ajuste os parâmetros conforme necessário\n",
    "    dataframes.append(df)\n",
    "\n",
    "# Concatena todos os dataframes em um único dataframe\n",
    "df_final = pd.concat(dataframes, ignore_index=True)\n",
    "df_final"
   ]
  },
  {
   "cell_type": "code",
   "execution_count": null,
   "id": "741f06d6",
   "metadata": {},
   "outputs": [],
   "source": [
    "df_1100_icms_tot = df_final[['Chv_doc', 'num_item', 'icms_tot']]\n",
    "ficha_3_icms_tot = ficha_3[['CHV_DOC', 'NUM_ITEM', 'ICMS_TOT_PCAT']]\n",
    "\n",
    "ficha_3_icms_tot['NUM_ITEM'] = ficha_3_icms_tot['NUM_ITEM'].astype(str)\n",
    "df_1100_icms_tot['num_item'] = df_1100_icms_tot['num_item'].astype(str)\n",
    "\n",
    "df_1100_icms_tot['Chv_item'] = df_1100_icms_tot['Chv_doc'] + '-' + df_1100_icms_tot['num_item']\n",
    "ficha_3_icms_tot['CHV_ITEM'] = ficha_3_icms_tot['CHV_DOC'] + '-' + ficha_3_icms_tot['NUM_ITEM']"
   ]
  },
  {
   "cell_type": "code",
   "execution_count": null,
   "id": "7f3aa9a7",
   "metadata": {},
   "outputs": [],
   "source": [
    "df_1100_icms_tot['icms_tot'] = df_1100_icms_tot['icms_tot'].str.replace(',', '.').astype(float)\n",
    "df_1100_icms_tot"
   ]
  },
  {
   "cell_type": "code",
   "execution_count": null,
   "id": "f08245e7",
   "metadata": {},
   "outputs": [],
   "source": [
    "merged = df_1100_icms_tot.merge(ficha_3_icms_tot[['CHV_ITEM', 'ICMS_TOT_PCAT']],\n",
    "                               left_on=['Chv_item'],\n",
    "                               right_on=['CHV_ITEM'])\n",
    "\n",
    "merged = merged.drop_duplicates()\n",
    "merged"
   ]
  },
  {
   "cell_type": "code",
   "execution_count": null,
   "id": "5326a7f7",
   "metadata": {},
   "outputs": [],
   "source": [
    "merged['Diffs'] = np.abs(merged['icms_tot'] - merged['ICMS_TOT_PCAT'])\n",
    "merged"
   ]
  },
  {
   "cell_type": "code",
   "execution_count": null,
   "id": "c53c97dc",
   "metadata": {},
   "outputs": [],
   "source": [
    "if merged[merged['Diffs'] >= 0.1].shape[0] > 0:\n",
    "    print('Há erro na geração do TXT em relação ao ICMS_TOT_PCAT, favor verificar')\n",
    "    sys.exit()"
   ]
  },
  {
   "cell_type": "code",
   "execution_count": null,
   "id": "78d3233d",
   "metadata": {},
   "outputs": [],
   "source": [
    "df_final"
   ]
  },
  {
   "cell_type": "code",
   "execution_count": null,
   "id": "462db510",
   "metadata": {},
   "outputs": [],
   "source": [
    "# Checagem de existência de ICMS_TOT\n",
    "\n",
    "if df_final[(df_final['cfop'].isin(['1403', '1409', '1411', '5411'])) & (df_final['icms_tot'].isnull())].shape[0] > 0:\n",
    "    print('Existem entradas, devoluções de entrada e devoluções de saída com ICMS_TOT nulo. Favor checar')\n",
    "    sys.exit()\n",
    "    \n",
    "if df_final[(df_final['cfop'].isin(['5409', '5405', '5403', '5401'])) & (df_final['icms_tot'].notnull())].shape[0] > 0:\n",
    "    print('Existem saídas com campo ICMS_TOT preenchido. Favor checar')\n",
    "    sys.exit()"
   ]
  },
  {
   "cell_type": "code",
   "execution_count": null,
   "id": "8040c8ea",
   "metadata": {},
   "outputs": [],
   "source": [
    "# Checagem de Valor de confronto\n",
    "\n",
    "if df_final[(df_final['cfop'].isin(['1403', '1409', '5411'])) & (df_final['vlr_confr'].notnull())].shape[0] > 0:\n",
    "    print('Existem entradas e devoluções de entrada com Valor de Confronto não nulo. Favor, checar.')\n",
    "    sys.exit()\n",
    "    \n",
    "if df_final[(df_final['cfop'].isin(['5405', '1411', '5409', '5403', '5401'])) & (df_final['cod_legal'] == '1') & (df_final['vlr_confr'].isnull())].shape[0] > 0:\n",
    "    print('Existem sáidas e devoluções de saída com Valor de Confronto nulo. Favor, checar.')\n",
    "    sys.exit()\n",
    "    \n",
    "if df_final[(df_final['cfop'].isin(['5405', '1411', '5409', '5403', '5401'])) & (df_final['cod_legal'] == '0') & (df_final['vlr_confr'].notnull())].shape[0] > 0:\n",
    "    print('Existem saídas e devoluções de saída com Valor de Confronto não nulo quando Código Legal igual a 0. Favor, checar')\n",
    "    sys.exit()"
   ]
  },
  {
   "cell_type": "code",
   "execution_count": null,
   "id": "8f06d2f2",
   "metadata": {},
   "outputs": [],
   "source": [
    "# Cheagem de código legal\n",
    "\n",
    "if df_final[(df_final['cfop'].isin(['1403', '1409', '5411'])) & (df_final['cod_legal'].notnull())].shape[0] > 0:\n",
    "    print('Existem entradas e devoluções de entrada com Código Legal não nulo. Favor, checar.')\n",
    "    sys.exit()\n",
    "    \n",
    "if df_final[(df_final['cfop'].isin(['5405', '1411', '5409', '5403', '5401'])) & (df_final['cod_legal'].isnull())].shape[0] > 0:\n",
    "    print('Existem sáidas e devoluções de saída com Código Legal nulo. Favor, checar.')\n",
    "    sys.exit()"
   ]
  },
  {
   "cell_type": "code",
   "execution_count": null,
   "id": "27964a3e",
   "metadata": {},
   "outputs": [],
   "source": [
    "df_final[(df_final['cfop'] == '1411') & (df_final['cod_legal'] == '1')]['vlr_confr'].unique()"
   ]
  }
 ],
 "metadata": {
  "kernelspec": {
   "display_name": "Python 3 (ipykernel)",
   "language": "python",
   "name": "python3"
  },
  "language_info": {
   "codemirror_mode": {
    "name": "ipython",
    "version": 3
   },
   "file_extension": ".py",
   "mimetype": "text/x-python",
   "name": "python",
   "nbconvert_exporter": "python",
   "pygments_lexer": "ipython3",
   "version": "3.10.9"
  }
 },
 "nbformat": 4,
 "nbformat_minor": 5
}
